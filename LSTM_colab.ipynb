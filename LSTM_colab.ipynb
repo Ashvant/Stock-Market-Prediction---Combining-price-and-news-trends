{
 "cells": [
  {
   "cell_type": "code",
   "execution_count": 1,
   "metadata": {
    "colab": {
     "autoexec": {
      "startup": false,
      "wait_interval": 0
     }
    },
    "colab_type": "code",
    "id": "MXXZ8uK7lBgP"
   },
   "outputs": [
    {
     "name": "stderr",
     "output_type": "stream",
     "text": [
      "/root/anaconda3/lib/python3.6/site-packages/h5py/__init__.py:36: FutureWarning: Conversion of the second argument of issubdtype from `float` to `np.floating` is deprecated. In future, it will be treated as `np.float64 == np.dtype(float).type`.\n",
      "  from ._conv import register_converters as _register_converters\n",
      "Using TensorFlow backend.\n"
     ]
    }
   ],
   "source": [
    "import numpy as np\n",
    "import matplotlib.pyplot as plt\n",
    "import pandas as pd\n",
    "from sklearn.preprocessing import MinMaxScaler\n",
    "from sklearn.model_selection import GridSearchCV\n",
    "from keras.wrappers.scikit_learn import KerasClassifier\n",
    "from keras.models import Sequential\n",
    "from keras.layers import Dense\n",
    "from keras.layers import LSTM\n",
    "from keras.layers import Dropout\n",
    "from keras.callbacks import ModelCheckpoint\n",
    "from keras.optimizers import SGD\n",
    "import time\n",
    "from sklearn.metrics import accuracy_score, mean_squared_error"
   ]
  },
  {
   "cell_type": "code",
   "execution_count": 2,
   "metadata": {},
   "outputs": [],
   "source": [
    "#Hyperparameters\n",
    "\n",
    "# the amount of previous days to train on\n",
    "window_size = 40 \n",
    "\n",
    "# Name of stock. Choose between AAPL, AMZN, FB, GOOG, MSFT\n",
    "stock_name = 'GOOG' \n",
    "\n",
    "# Train percentage. The test data will be treated as future. Its prices will not be used.\n",
    "train_test_split_percentage = 0.8"
   ]
  },
  {
   "cell_type": "code",
   "execution_count": 3,
   "metadata": {
    "colab": {
     "autoexec": {
      "startup": false,
      "wait_interval": 0
     }
    },
    "colab_type": "code",
    "id": "SiCJSmjblBgW"
   },
   "outputs": [],
   "source": [
    "lstm_input = pd.read_csv(\"./Data/\" + stock_name + \"/lstm_input.csv\")\n",
    "lstm_input.head(10)"
   ]
  },
  {
   "cell_type": "code",
   "execution_count": 5,
   "metadata": {
    "colab": {
     "autoexec": {
      "startup": false,
      "wait_interval": 0
     }
    },
    "colab_type": "code",
    "id": "rfIccCkAlBgd"
   },
   "outputs": [],
   "source": [
    "train_set_all = lstm_input.iloc[:int(len(lstm_input)*train_test_split_percentage)]\n",
    "test_set_all = lstm_input.iloc[int(len(lstm_input)*train_test_split_percentage):]"
   ]
  },
  {
   "cell_type": "code",
   "execution_count": 6,
   "metadata": {
    "colab": {
     "autoexec": {
      "startup": false,
      "wait_interval": 0
     },
     "base_uri": "https://localhost:8080/",
     "height": 34
    },
    "colab_type": "code",
    "executionInfo": {
     "elapsed": 363,
     "status": "ok",
     "timestamp": 1524449173153,
     "user": {
      "displayName": "Ashvant Ram Selvam",
      "photoUrl": "https://lh3.googleusercontent.com/a/default-user=s128",
      "userId": "113072397485214928003"
     },
     "user_tz": 420
    },
    "id": "nGV01MPtlBgf",
    "outputId": "d083fe92-f286-4f0e-ed59-0a1554c46a4a"
   },
   "outputs": [
    {
     "data": {
      "text/html": [
       "<div>\n",
       "<style scoped>\n",
       "    .dataframe tbody tr th:only-of-type {\n",
       "        vertical-align: middle;\n",
       "    }\n",
       "\n",
       "    .dataframe tbody tr th {\n",
       "        vertical-align: top;\n",
       "    }\n",
       "\n",
       "    .dataframe thead th {\n",
       "        text-align: right;\n",
       "    }\n",
       "</style>\n",
       "<table border=\"1\" class=\"dataframe\">\n",
       "  <thead>\n",
       "    <tr style=\"text-align: right;\">\n",
       "      <th></th>\n",
       "      <th>close</th>\n",
       "      <th>y</th>\n",
       "      <th>sentiment</th>\n",
       "    </tr>\n",
       "  </thead>\n",
       "  <tbody>\n",
       "    <tr>\n",
       "      <th>0</th>\n",
       "      <td>749.38</td>\n",
       "      <td>18.38</td>\n",
       "      <td>0.477296</td>\n",
       "    </tr>\n",
       "    <tr>\n",
       "      <th>1</th>\n",
       "      <td>749.16</td>\n",
       "      <td>-3.89</td>\n",
       "      <td>0.055972</td>\n",
       "    </tr>\n",
       "    <tr>\n",
       "      <th>2</th>\n",
       "      <td>753.46</td>\n",
       "      <td>3.61</td>\n",
       "      <td>0.022010</td>\n",
       "    </tr>\n",
       "    <tr>\n",
       "      <th>3</th>\n",
       "      <td>756.50</td>\n",
       "      <td>-3.45</td>\n",
       "      <td>0.014165</td>\n",
       "    </tr>\n",
       "    <tr>\n",
       "      <th>4</th>\n",
       "      <td>754.50</td>\n",
       "      <td>0.35</td>\n",
       "      <td>0.018087</td>\n",
       "    </tr>\n",
       "    <tr>\n",
       "      <th>5</th>\n",
       "      <td>761.78</td>\n",
       "      <td>2.73</td>\n",
       "      <td>0.017219</td>\n",
       "    </tr>\n",
       "    <tr>\n",
       "      <th>6</th>\n",
       "      <td>756.99</td>\n",
       "      <td>-8.21</td>\n",
       "      <td>0.744242</td>\n",
       "    </tr>\n",
       "    <tr>\n",
       "      <th>7</th>\n",
       "      <td>762.50</td>\n",
       "      <td>6.78</td>\n",
       "      <td>0.022541</td>\n",
       "    </tr>\n",
       "    <tr>\n",
       "      <th>8</th>\n",
       "      <td>768.05</td>\n",
       "      <td>5.30</td>\n",
       "      <td>0.019752</td>\n",
       "    </tr>\n",
       "    <tr>\n",
       "      <th>9</th>\n",
       "      <td>767.65</td>\n",
       "      <td>-3.06</td>\n",
       "      <td>0.356906</td>\n",
       "    </tr>\n",
       "  </tbody>\n",
       "</table>\n",
       "</div>"
      ],
      "text/plain": [
       "    close      y  sentiment\n",
       "0  749.38  18.38   0.477296\n",
       "1  749.16  -3.89   0.055972\n",
       "2  753.46   3.61   0.022010\n",
       "3  756.50  -3.45   0.014165\n",
       "4  754.50   0.35   0.018087\n",
       "5  761.78   2.73   0.017219\n",
       "6  756.99  -8.21   0.744242\n",
       "7  762.50   6.78   0.022541\n",
       "8  768.05   5.30   0.019752\n",
       "9  767.65  -3.06   0.356906"
      ]
     },
     "execution_count": 6,
     "metadata": {},
     "output_type": "execute_result"
    }
   ],
   "source": [
    "train_set = train_set_all.drop([\"date\",\"open\",\"high\",\"low\",\"volume\"],axis=1)\n",
    "test_set = test_set_all.drop([\"date\",\"open\",\"high\",\"low\",\"volume\"],axis=1)\n",
    "train_set.head(10)"
   ]
  },
  {
   "cell_type": "code",
   "execution_count": 7,
   "metadata": {
    "colab": {
     "autoexec": {
      "startup": false,
      "wait_interval": 0
     }
    },
    "colab_type": "code",
    "id": "a3MDnd8_lBgi"
   },
   "outputs": [],
   "source": [
    "norm = MinMaxScaler(feature_range = (0, 1))\n",
    "norm.fit(train_set)\n",
    "train_set_norm = norm.transform(train_set)\n",
    "test_set_norm = norm.transform(test_set)"
   ]
  },
  {
   "cell_type": "code",
   "execution_count": 8,
   "metadata": {
    "colab": {
     "autoexec": {
      "startup": false,
      "wait_interval": 0
     }
    },
    "colab_type": "code",
    "id": "KRrMrRdVlBgl"
   },
   "outputs": [
    {
     "data": {
      "text/plain": [
       "array([[0.34893723, 0.82751389, 0.48368622],\n",
       "       [0.34863299, 0.59400231, 0.05022026],\n",
       "       [0.35457952, 0.67264339, 0.01527899],\n",
       "       ...,\n",
       "       [0.49742086, 0.69109783, 0.48368622],\n",
       "       [0.48787875, 0.56705463, 0.48368622],\n",
       "       [0.4868139 , 0.63625878, 0.9004032 ]])"
      ]
     },
     "execution_count": 8,
     "metadata": {},
     "output_type": "execute_result"
    }
   ],
   "source": [
    "train_set_array = np.array(train_set_norm)\n",
    "train_set_array"
   ]
  },
  {
   "cell_type": "code",
   "execution_count": 9,
   "metadata": {
    "colab": {
     "autoexec": {
      "startup": false,
      "wait_interval": 0
     }
    },
    "colab_type": "code",
    "id": "PW8rVrNtlBgu"
   },
   "outputs": [
    {
     "data": {
      "text/plain": [
       "((1077, 40, 3), (1077,))"
      ]
     },
     "execution_count": 9,
     "metadata": {},
     "output_type": "execute_result"
    }
   ],
   "source": [
    "trainData1 = []\n",
    "trainData2 = []\n",
    "trainData3 = []\n",
    "trainLabels = []\n",
    "for i in range(window_size, len(train_set_array)):\n",
    "    trainData1.append(train_set_array[i-window_size:i, 0])\n",
    "    trainData2.append(train_set_array[i-window_size:i, 1])\n",
    "    trainData3.append(train_set_array[i-window_size:i, 2])\n",
    "    trainLabels.append(train_set_array[i, 0])\n",
    "\n",
    "trainData1,trainData2,trainData3, trainLabels = np.array(trainData1),np.array(trainData2),np.array(trainData3), np.array(trainLabels)\n",
    "trainData = np.dstack((trainData1,trainData2,trainData3))\n",
    "trainData.shape, trainLabels.shape"
   ]
  },
  {
   "cell_type": "markdown",
   "metadata": {
    "colab_type": "text",
    "id": "QnuzO2MvlBg0"
   },
   "source": [
    "## Model Initialization"
   ]
  },
  {
   "cell_type": "code",
   "execution_count": 10,
   "metadata": {
    "colab": {
     "autoexec": {
      "startup": false,
      "wait_interval": 0
     }
    },
    "colab_type": "code",
    "id": "rXBUQumflBg3"
   },
   "outputs": [],
   "source": [
    "def create_model(neurons=80, optimizer='Adam', learn_rate=0.1, momentum=0, init_mode='uniform', activation='sigmoid', dropout=0.4):\n",
    "    regressor = Sequential()\n",
    "    regressor.add(LSTM(units = neurons, return_sequences = True, input_shape = (trainData.shape[1], 3)))\n",
    "    regressor.add(Dropout(dropout))\n",
    "    regressor.add(LSTM(units = neurons, return_sequences = True))\n",
    "    regressor.add(Dropout(dropout))\n",
    "    regressor.add(LSTM(units = neurons, return_sequences = True))\n",
    "    regressor.add(Dropout(dropout))\n",
    "    regressor.add(LSTM(units = neurons))\n",
    "    regressor.add(Dropout(dropout))\n",
    "    regressor.add(Dense(units = 1, kernel_initializer=init_mode, activation=activation))\n",
    "    if optimizer == 'SGD':\n",
    "        optimizer = SGD(lr=learn_rate, momentum=momentum)\n",
    "    # 'RMSprop', 'Adagrad', 'Adadelta', 'Adam', 'Adamax', 'Nadam'\n",
    "    # Put initialization of other optimizers here or use as it is. It doesn't matter.\n",
    "    regressor.compile(optimizer = optimizer, loss = 'mean_squared_error')\n",
    "    return regressor"
   ]
  },
  {
   "cell_type": "markdown",
   "metadata": {
    "colab_type": "text",
    "id": "ldSlVqnnlBhd"
   },
   "source": [
    "## Model Checkpointing"
   ]
  },
  {
   "cell_type": "code",
   "execution_count": 11,
   "metadata": {
    "colab": {
     "autoexec": {
      "startup": false,
      "wait_interval": 0
     }
    },
    "colab_type": "code",
    "id": "lge28gSslBhh"
   },
   "outputs": [],
   "source": [
    "filepath=\"./Data/\" + stock_name + \"/weights\" + str(window_size) + \"pnt.best.hdf5\"\n",
    "checkpoint = ModelCheckpoint(filepath, monitor='val_loss', verbose=1, save_best_only=True, mode='min')\n",
    "callbacks_list = [checkpoint]"
   ]
  },
  {
   "cell_type": "code",
   "execution_count": 12,
   "metadata": {},
   "outputs": [
    {
     "data": {
      "text/plain": [
       "<keras.models.Sequential at 0x7f98a2034908>"
      ]
     },
     "execution_count": 12,
     "metadata": {},
     "output_type": "execute_result"
    }
   ],
   "source": [
    "regressor = create_model()\n",
    "regressor"
   ]
  },
  {
   "cell_type": "code",
   "execution_count": 13,
   "metadata": {
    "colab": {
     "autoexec": {
      "startup": false,
      "wait_interval": 0
     },
     "base_uri": "https://localhost:8080/",
     "height": 16544
    },
    "colab_type": "code",
    "id": "evI2prJUlBhk",
    "outputId": "8e5286db-4e7d-4d11-9213-027711526cf2",
    "scrolled": true
   },
   "outputs": [
    {
     "name": "stdout",
     "output_type": "stream",
     "text": [
      "Train on 721 samples, validate on 356 samples\n",
      "Epoch 1/20\n",
      "721/721 [==============================] - 7s 10ms/step - loss: 0.0014 - val_loss: 4.5386e-04\n",
      "\n",
      "Epoch 00001: val_loss improved from inf to 0.00045, saving model to ./Data/GOOG/weights40pnt.best.hdf5\n",
      "Epoch 2/20\n",
      "721/721 [==============================] - 6s 8ms/step - loss: 0.0014 - val_loss: 5.8347e-04\n",
      "\n",
      "Epoch 00002: val_loss did not improve\n",
      "Epoch 3/20\n",
      "721/721 [==============================] - 6s 8ms/step - loss: 0.0014 - val_loss: 6.2675e-04\n",
      "\n",
      "Epoch 00003: val_loss did not improve\n",
      "Epoch 4/20\n",
      "721/721 [==============================] - 6s 8ms/step - loss: 0.0011 - val_loss: 3.8347e-04\n",
      "\n",
      "Epoch 00004: val_loss improved from 0.00045 to 0.00038, saving model to ./Data/GOOG/weights40pnt.best.hdf5\n",
      "Epoch 5/20\n",
      "721/721 [==============================] - 6s 8ms/step - loss: 0.0012 - val_loss: 4.5506e-04\n",
      "\n",
      "Epoch 00005: val_loss did not improve\n",
      "Epoch 6/20\n",
      "721/721 [==============================] - 6s 8ms/step - loss: 0.0014 - val_loss: 4.8225e-04\n",
      "\n",
      "Epoch 00006: val_loss did not improve\n",
      "Epoch 7/20\n",
      "721/721 [==============================] - 6s 8ms/step - loss: 0.0013 - val_loss: 4.2701e-04\n",
      "\n",
      "Epoch 00007: val_loss did not improve\n",
      "Epoch 8/20\n",
      "721/721 [==============================] - 6s 8ms/step - loss: 0.0011 - val_loss: 5.8764e-04\n",
      "\n",
      "Epoch 00008: val_loss did not improve\n",
      "Epoch 9/20\n",
      "721/721 [==============================] - 6s 8ms/step - loss: 0.0018 - val_loss: 4.7510e-04\n",
      "\n",
      "Epoch 00009: val_loss did not improve\n",
      "Epoch 10/20\n",
      "721/721 [==============================] - 6s 8ms/step - loss: 0.0013 - val_loss: 4.8144e-04\n",
      "\n",
      "Epoch 00010: val_loss did not improve\n",
      "Epoch 11/20\n",
      "721/721 [==============================] - 6s 8ms/step - loss: 0.0010 - val_loss: 4.1334e-04\n",
      "\n",
      "Epoch 00011: val_loss did not improve\n",
      "Epoch 12/20\n",
      "721/721 [==============================] - 6s 8ms/step - loss: 0.0010 - val_loss: 4.1450e-04\n",
      "\n",
      "Epoch 00012: val_loss did not improve\n",
      "Epoch 13/20\n",
      "721/721 [==============================] - 6s 8ms/step - loss: 0.0011 - val_loss: 4.3002e-04\n",
      "\n",
      "Epoch 00013: val_loss did not improve\n",
      "Epoch 14/20\n",
      "721/721 [==============================] - 6s 8ms/step - loss: 0.0017 - val_loss: 4.9178e-04\n",
      "\n",
      "Epoch 00014: val_loss did not improve\n",
      "Epoch 15/20\n",
      "721/721 [==============================] - 6s 8ms/step - loss: 0.0016 - val_loss: 5.7989e-04\n",
      "\n",
      "Epoch 00015: val_loss did not improve\n",
      "Epoch 16/20\n",
      "721/721 [==============================] - 6s 8ms/step - loss: 0.0013 - val_loss: 0.0011\n",
      "\n",
      "Epoch 00016: val_loss did not improve\n",
      "Epoch 17/20\n",
      "721/721 [==============================] - 6s 8ms/step - loss: 0.0012 - val_loss: 5.1524e-04\n",
      "\n",
      "Epoch 00017: val_loss did not improve\n",
      "Epoch 18/20\n",
      "721/721 [==============================] - 6s 8ms/step - loss: 0.0023 - val_loss: 5.3115e-04\n",
      "\n",
      "Epoch 00018: val_loss did not improve\n",
      "Epoch 19/20\n",
      "721/721 [==============================] - 6s 8ms/step - loss: 0.0014 - val_loss: 5.4482e-04\n",
      "\n",
      "Epoch 00019: val_loss did not improve\n",
      "Epoch 20/20\n",
      "721/721 [==============================] - 6s 8ms/step - loss: 0.0012 - val_loss: 4.4058e-04\n",
      "\n",
      "Epoch 00020: val_loss did not improve\n"
     ]
    }
   ],
   "source": [
    "for i in range(1):\n",
    "    # In case the model diverges, re initialising the model with best weights so far.\n",
    "    regressor.load_weights(filepath)\n",
    "    \n",
    "    #Fitting the model\n",
    "    regressor.fit(trainData, trainLabels, validation_split=0.33, epochs=20, shuffle=True, batch_size=50, callbacks=callbacks_list, verbose=1)"
   ]
  },
  {
   "cell_type": "markdown",
   "metadata": {
    "colab_type": "text",
    "id": "iTqu9Y-alBhn"
   },
   "source": [
    "##  Loading best weights from Model Checkpointing"
   ]
  },
  {
   "cell_type": "code",
   "execution_count": 14,
   "metadata": {
    "colab": {
     "autoexec": {
      "startup": false,
      "wait_interval": 0
     }
    },
    "colab_type": "code",
    "id": "E4zc7ExtlBhn"
   },
   "outputs": [],
   "source": [
    "model  = create_model()\n",
    "filepath=\"./Data/\" + stock_name + \"/weights\" + str(window_size) + \"pnt.best.hdf5\"\n",
    "model.load_weights(filepath)"
   ]
  },
  {
   "cell_type": "markdown",
   "metadata": {
    "colab_type": "text",
    "id": "ym15_771lBhq"
   },
   "source": [
    "##  Predicting after loading weights"
   ]
  },
  {
   "cell_type": "code",
   "execution_count": 15,
   "metadata": {
    "colab": {
     "autoexec": {
      "startup": false,
      "wait_interval": 0
     },
     "base_uri": "https://localhost:8080/",
     "height": 4828
    },
    "colab_type": "code",
    "executionInfo": {
     "elapsed": 2646,
     "status": "ok",
     "timestamp": 1524445334108,
     "user": {
      "displayName": "Ashvant Ram Selvam",
      "photoUrl": "https://lh3.googleusercontent.com/a/default-user=s128",
      "userId": "113072397485214928003"
     },
     "user_tz": 420
    },
    "id": "y5AAJBcSlBhq",
    "outputId": "7961513c-75bb-40aa-b893-25278353d18c",
    "scrolled": true
   },
   "outputs": [
    {
     "name": "stdout",
     "output_type": "stream",
     "text": [
      "(1316, 40)\n",
      "(1316, 40)\n",
      "(1316, 40)\n",
      "[0.3078973  0.3037904  0.3033315  0.31248778 0.3277496  0.33961597\n",
      " 0.35435122 0.36478043 0.37165946 0.38296017 0.37907642 0.37099904\n",
      " 0.37438166 0.38247073 0.39154243 0.39311194 0.3934364  0.3934515\n",
      " 0.39859334 0.40651897]\n"
     ]
    }
   ],
   "source": [
    "fullData = pd.concat((train_set, test_set), axis = 0)\n",
    "inputs = fullData[window_size:].values\n",
    "inputs = norm.transform(inputs)\n",
    "testData1 = []\n",
    "testData2 = []\n",
    "testData3 = []\n",
    "testLabels = []\n",
    "   \n",
    "for i in range(window_size, len(inputs)-1):\n",
    "    testData1.append(inputs[i-window_size:i, 0])\n",
    "    testData2.append(inputs[i-window_size:i, 1])\n",
    "    testData3.append(inputs[i-window_size:i, 2])\n",
    "    testLabels.append(inputs[i, 0])\n",
    "\n",
    "testData1,testData2,testData3, testLabels = np.array(testData1), np.array(testData2), np.array(testData3), np.array(testLabels)\n",
    "print(testData1.shape)\n",
    "print(testData2.shape)\n",
    "print(testData3.shape)\n",
    "testData = np.dstack((testData1,testData2,testData3))\n",
    "predicted_stock_price = model.predict(testData)\n",
    "print(predicted_stock_price[:20].T[0])"
   ]
  },
  {
   "cell_type": "markdown",
   "metadata": {
    "colab_type": "text",
    "id": "fwabn0dClBhs"
   },
   "source": [
    "## Final testing from grid_result.best_params_ dict."
   ]
  },
  {
   "cell_type": "code",
   "execution_count": 16,
   "metadata": {
    "colab": {
     "autoexec": {
      "startup": false,
      "wait_interval": 0
     },
     "base_uri": "https://localhost:8080/",
     "height": 799
    },
    "colab_type": "code",
    "executionInfo": {
     "elapsed": 415,
     "status": "ok",
     "timestamp": 1524445394021,
     "user": {
      "displayName": "Ashvant Ram Selvam",
      "photoUrl": "https://lh3.googleusercontent.com/a/default-user=s128",
      "userId": "113072397485214928003"
     },
     "user_tz": 420
    },
    "id": "RLz92564lBh5",
    "outputId": "665a5261-4a0e-44bb-aa25-26a64f8487cf"
   },
   "outputs": [
    {
     "data": {
      "text/plain": [
       "array([0.33803986, 0.3550912 , 0.35486994, 0.35080417, 0.35488377,\n",
       "       0.3550912 , 0.35766343, 0.38519727, 0.36226853, 0.37156173,\n",
       "       0.37768804, 0.38291546, 0.39870836, 0.39462876, 0.39225014,\n",
       "       0.39523724, 0.4020965 , 0.40910788, 0.42841338, 0.40851323])"
      ]
     },
     "execution_count": 16,
     "metadata": {},
     "output_type": "execute_result"
    }
   ],
   "source": [
    "test_set_true = inputs.T[0][window_size + 1:]\n",
    "test_set_true[:20]"
   ]
  },
  {
   "cell_type": "code",
   "execution_count": 21,
   "metadata": {
    "colab": {
     "autoexec": {
      "startup": false,
      "wait_interval": 0
     },
     "base_uri": "https://localhost:8080/",
     "height": 403
    },
    "colab_type": "code",
    "executionInfo": {
     "elapsed": 794,
     "status": "ok",
     "timestamp": 1524445398119,
     "user": {
      "displayName": "Ashvant Ram Selvam",
      "photoUrl": "https://lh3.googleusercontent.com/a/default-user=s128",
      "userId": "113072397485214928003"
     },
     "user_tz": 420
    },
    "id": "8b2EkZ0BlBh9",
    "outputId": "12059c8f-4615-4c47-ecb5-16a5cf052846"
   },
   "outputs": [
    {
     "data": {
      "image/png": "[encoded data removed]",
      "text/plain": [
       "<matplotlib.figure.Figure at 0x7f987445a668>"
      ]
     },
     "metadata": {},
     "output_type": "display_data"
    }
   ],
   "source": [
    "# Visualising the results\n",
    "width = 16\n",
    "height = 6\n",
    "plt.figure(figsize=(width, height))\n",
    "\n",
    "\n",
    "# Just keeping the test Data\n",
    "offset = 0#train_test_split_percentage\n",
    "test_set_true_graph = test_set_true[int(len(test_set_true)*offset):]\n",
    "predicted_stock_price_graph = predicted_stock_price[int(len(predicted_stock_price)*offset):]\n",
    "\n",
    "\n",
    "plt.plot(test_set_true_graph, color = 'red', label = 'Real ' + stock_name + ' Stock Price')\n",
    "plt.plot(predicted_stock_price_graph, color = 'blue', label = 'Predicted ' + stock_name + ' Stock Price')\n",
    "plt.title('' + stock_name + ' Stock Price Prediction Future')\n",
    "plt.xlabel('Time')\n",
    "plt.ylabel('Stock Price')\n",
    "plt.legend()\n",
    "plt.show()"
   ]
  },
  {
   "cell_type": "code",
   "execution_count": 18,
   "metadata": {
    "colab": {
     "autoexec": {
      "startup": false,
      "wait_interval": 0
     },
     "base_uri": "https://localhost:8080/",
     "height": 34
    },
    "colab_type": "code",
    "executionInfo": {
     "elapsed": 317,
     "status": "ok",
     "timestamp": 1524445407906,
     "user": {
      "displayName": "Ashvant Ram Selvam",
      "photoUrl": "https://lh3.googleusercontent.com/a/default-user=s128",
      "userId": "113072397485214928003"
     },
     "user_tz": 420
    },
    "id": "aO9SUqOFlBh-",
    "outputId": "a842a91c-b990-4fbc-bc72-021e2e3f03db",
    "slideshow": {
     "slide_type": "-"
    }
   },
   "outputs": [],
   "source": [
    "pred_up_down = []\n",
    "true_up_down = []\n",
    "for i in range(len(test_set_true)-1):\n",
    "    pred_up_down.append(predicted_stock_price[i+1] - predicted_stock_price[i])\n",
    "    true_up_down.append(test_set_true[i+1] - test_set_true[i])\n",
    "    \n",
    "msa = mean_squared_error(predicted_stock_price, test_set_true)\n",
    "pred_up_down = np.array(pred_up_down) > 0\n",
    "true_up_down = np.array(true_up_down) > 0\n",
    "\n",
    "acc = accuracy_score(pred_up_down, true_up_down)"
   ]
  },
  {
   "cell_type": "code",
   "execution_count": 19,
   "metadata": {},
   "outputs": [
    {
     "name": "stdout",
     "output_type": "stream",
     "text": [
      "GOOG \n",
      "Mean Squared Error   : 0.002049097058838995 \n",
      "Directional Accuracy : 0.4768060836501901\n"
     ]
    }
   ],
   "source": [
    "print(stock_name, '\\nMean Squared Error   :', msa, '\\nDirectional Accuracy :', acc, sep=' ')"
   ]
  },
  {
   "cell_type": "code",
   "execution_count": 20,
   "metadata": {
    "colab": {
     "autoexec": {
      "startup": false,
      "wait_interval": 0
     }
    },
    "colab_type": "code",
    "id": "Kfchovc2lBiB",
    "outputId": "e9f85ad2-ac36-41f9-ca96-61d0dea61a4c"
   },
   "outputs": [
    {
     "name": "stdout",
     "output_type": "stream",
     "text": [
      "[name: \"/cpu:0\"\n",
      "device_type: \"CPU\"\n",
      "memory_limit: 268435456\n",
      "locality {\n",
      "}\n",
      "incarnation: 3913840005932368269\n",
      ", name: \"/gpu:0\"\n",
      "device_type: \"GPU\"\n",
      "memory_limit: 169869312\n",
      "locality {\n",
      "  bus_id: 1\n",
      "}\n",
      "incarnation: 7723269891492902211\n",
      "physical_device_desc: \"device: 0, name: GeForce GT 730, pci bus id: 0000:02:00.0\"\n",
      "]\n"
     ]
    }
   ],
   "source": [
    "from tensorflow.python.client import device_lib\n",
    "\n",
    "print(device_lib.list_local_devices())"
   ]
  },
  {
   "cell_type": "code",
   "execution_count": null,
   "metadata": {},
   "outputs": [],
   "source": []
  }
 ],
 "metadata": {
  "accelerator": "GPU",
  "colab": {
   "collapsed_sections": [
    "aO3Ybcd7lBg7",
    "M0_3IswZlBg_",
    "tVgmULmclBhD",
    "wvrw6ncFlBhH",
    "DK1O7CmTlBhM",
    "T1e-ZGKnlBhS",
    "7xSGnHOKlBha"
   ],
   "default_view": {},
   "name": "LSTM.ipynb",
   "provenance": [],
   "version": "0.3.2",
   "views": {}
  },
  "kernelspec": {
   "display_name": "Python 3",
   "language": "python",
   "name": "python3"
  },
  "language_info": {
   "codemirror_mode": {
    "name": "ipython",
    "version": 3
   },
   "file_extension": ".py",
   "mimetype": "text/x-python",
   "name": "python",
   "nbconvert_exporter": "python",
   "pygments_lexer": "ipython3",
   "version": "3.6.4"
  }
 },
 "nbformat": 4,
 "nbformat_minor": 1
}
